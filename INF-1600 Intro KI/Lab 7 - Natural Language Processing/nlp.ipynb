{
 "cells": [
  {
   "cell_type": "code",
   "execution_count": 9,
   "metadata": {},
   "outputs": [],
   "source": [
    "import numpy as np\n",
    "from typing import List, Dict\n",
    "import pandas as pd\n",
    "import random"
   ]
  },
  {
   "cell_type": "code",
   "execution_count": 10,
   "metadata": {},
   "outputs": [],
   "source": [
    "def build_model(source, state_size):\n",
    "    '''\n",
    "    Given a corpus and a state size, build a Markov Chain.\n",
    "    '''\n",
    "\n",
    "    source = source.split()\n",
    "    model = {}\n",
    "\n",
    "    # Build the model\n",
    "    for i in range(state_size, len(source)):\n",
    "        current_word = source[i]\n",
    "        # Get the state, last <state_size> words\n",
    "        previous_words = ' '.join(source[i-state_size:i])\n",
    "\n",
    "        # If the state is not in the model, add it\n",
    "        if previous_words in model:\n",
    "            model[previous_words].append(current_word)\n",
    "        else:\n",
    "            model[previous_words] = [current_word]\n",
    "\n",
    "    return model"
   ]
  },
  {
   "cell_type": "code",
   "execution_count": 11,
   "metadata": {},
   "outputs": [],
   "source": [
    "def generate_text(model, state_size, min_length):\n",
    "    '''\n",
    "    Consume a Markov Chain model (make sure to specify the <state_size> used)\n",
    "    to generate text htat is at least <min_leanth> size long.\n",
    "    '''\n",
    "\n",
    "    def get_new_starter():\n",
    "        # Get a random state from the model\n",
    "        return random.choice([s.split(' ') for s in model.keys() if s[0].isupper()])\n",
    "    text = get_new_starter()\n",
    "\n",
    "    i = state_size\n",
    "\n",
    "    # Keep generating text until we reach the minimum length\n",
    "    while True:\n",
    "        key = ' '.join(text[i-state_size:i])\n",
    "        if key not in model:\n",
    "            text += get_new_starter()\n",
    "            i += 1\n",
    "            continue\n",
    "    \n",
    "        # Get the next word\n",
    "        next_word = random.choice(model[key])\n",
    "\n",
    "        # Append the word to the text\n",
    "        text.append(next_word)\n",
    "        i += 1\n",
    "\n",
    "        # If we reach the minimum length, return the text and a \".\"\n",
    "        if i > min_length and text[-1][-1] == \".\":\n",
    "            break\n",
    "    return ' '.join(text)"
   ]
  },
  {
   "cell_type": "code",
   "execution_count": 13,
   "metadata": {},
   "outputs": [
    {
     "data": {
      "text/plain": [
       "\"The glorious gods sit in hourly synod about thy particular prosperity, and love thee no worse than thy old father Menenius does! O my son, my son! thou art preparing fire for us; look thee, here's water to quench it. I was hardly moved to come to thee; but being assured none but myself could move thee, I have been blown out of your gates with sighs; and conjure thee to pardon Rome, and thy petitionary countrymen.\""
      ]
     },
     "execution_count": 13,
     "metadata": {},
     "output_type": "execute_result"
    }
   ],
   "source": [
    "# Get the corpus\n",
    "data = open(\"shake.txt\", encoding=\"utf8\").read()\n",
    "\n",
    "# Generate the text\n",
    "build_model(data, 4)\n",
    "\n",
    "# Generate the text\n",
    "generate_text(build_model(data, 4), 4, 50)"
   ]
  }
 ],
 "metadata": {
  "kernelspec": {
   "display_name": "Python 3.10.8 64-bit",
   "language": "python",
   "name": "python3"
  },
  "language_info": {
   "codemirror_mode": {
    "name": "ipython",
    "version": 3
   },
   "file_extension": ".py",
   "mimetype": "text/x-python",
   "name": "python",
   "nbconvert_exporter": "python",
   "pygments_lexer": "ipython3",
   "version": "3.10.8"
  },
  "orig_nbformat": 4,
  "vscode": {
   "interpreter": {
    "hash": "a42ccb73e7d9bfdf27e036f1d2b8b681e55fc0743cc5586bc2474d4a60f4b886"
   }
  }
 },
 "nbformat": 4,
 "nbformat_minor": 2
}
